import cv2
import numpy as np
import mediapipe as mp
import math

# -------------------------------
# توابع کمکی
# -------------------------------

def calculate_angle(a, b, c):
    a = np.array(a)
    b = np.array(b)
    c = np.array(c)
    ab = a - b
    cb = c - b
    radians = np.arctan2(cb[1], cb[0]) - np.arctan2(ab[1], ab[0])
    angle = np.abs(radians * 180.0 / np.pi)
    return angle

def round_up_2dec(val):
    return np.round(val, 2)

def classify_tibiofemoral_angle(angle):
    normal_low, normal_hi = 173, 180
    min_dev, max_dev = 5, 15

    if angle < normal_low:
        dev = normal_low - angle
        if dev < min_dev:
            return "valgum", "mild", 1
        elif dev <= max_dev:
            return "valgum", "moderate", 2
        else:
            return "valgum", "severe", 3

    elif angle > normal_hi:
        dev = angle - normal_hi
        if dev < min_dev:
            return "varum", "mild", 1
        elif dev <= max_dev:
            return "varum", "moderate", 2
        else:
            return "varum", "severe", 3
    else:
        return "normal", "none", 0

# -------------------------------
# شروع برنامه
# -------------------------------

# خواندن عکس
frame = cv2.imread("test2.jpg")  # ← نام فایل تصویر را اینجا بنویس
if frame is None:
    print("❌ تصویر پیدا نشد. لطفا مسیر را بررسی کن")
    exit()

# تبدیل به RGB
mp_pose = mp.solutions.pose
mp_drawing = mp.solutions.drawing_utils
mp_drawing_styles = mp.solutions.drawing_styles

with mp_pose.Pose(
    static_image_mode=True,
    min_detection_confidence=0.5) as pose:

    frame_rgb = cv2.cvtColor(frame, cv2.COLOR_BGR2RGB)
    results = pose.process(frame_rgb)
    frame = cv2.cvtColor(frame_rgb, cv2.COLOR_RGB2BGR)

    if results.pose_landmarks:

        mp_drawing.draw_landmarks(
            frame, results.pose_landmarks, mp_pose.POSE_CONNECTIONS,
            landmark_drawing_spec=mp_drawing_styles.get_default_pose_landmarks_style())

        landmarks = results.pose_landmarks.landmark

        # نقاط کلیدی چپ
        hip_l = [landmarks[mp_pose.PoseLandmark.LEFT_HIP.value].x,
                 landmarks[mp_pose.PoseLandmark.LEFT_HIP.value].y]
        knee_l = [landmarks[mp_pose.PoseLandmark.LEFT_KNEE.value].x,
                  landmarks[mp_pose.PoseLandmark.LEFT_KNEE.value].y]
        ankle_l = [landmarks[mp_pose.PoseLandmark.LEFT_ANKLE.value].x,
                   landmarks[mp_pose.PoseLandmark.LEFT_ANKLE.value].y]

        # نقاط کلیدی راست
        hip_r = [landmarks[mp_pose.PoseLandmark.RIGHT_HIP.value].x,
                 landmarks[mp_pose.PoseLandmark.RIGHT_HIP.value].y]
        knee_r = [landmarks[mp_pose.PoseLandmark.RIGHT_KNEE.value].x,
                  landmarks[mp_pose.PoseLandmark.RIGHT_KNEE.value].y]
        ankle_r = [landmarks[mp_pose.PoseLandmark.RIGHT_ANKLE.value].x,
                   landmarks[mp_pose.PoseLandmark.RIGHT_ANKLE.value].y]

        # اندازه تصویر
        h, w = frame.shape[:2]

        # زاویه‌ها
        angle_left = round_up_2dec(calculate_angle(hip_l, knee_l, ankle_l))
        angle_right = round_up_2dec(calculate_angle(hip_r, knee_r, ankle_r))

        # تشخیص شدت ناهنجاری
        type_l, sev_l, state_l = classify_tibiofemoral_angle(angle_left)
        type_r, sev_r, state_r = classify_tibiofemoral_angle(angle_right)

        if state_l > state_r:
            final_type = type_l
            final_sev = sev_l
        elif state_r > state_l:
            final_type = type_r
            final_sev = sev_r
        else:
            final_type = type_l
            final_sev = sev_l

        # نمایش زاویه روی تصویر
        cv2.putText(frame, f"{angle_left}°",
                    tuple(np.multiply(knee_l, [w, h]).astype(int)),
                    cv2.FONT_HERSHEY_SIMPLEX, 0.5, (0, 255, 255), 2)
        cv2.putText(frame, f"{angle_right}°",
                    tuple(np.multiply(knee_r, [w, h]).astype(int)),
                    cv2.FONT_HERSHEY_SIMPLEX, 0.5, (0, 255, 255), 2)

        # نمایش وضعیت نهایی
        cv2.putText(frame, f'Type of Knee Deformity: {final_type}',
                    (10, 30), cv2.FONT_HERSHEY_SIMPLEX, 0.6, (0, 0, 255), 2)
        cv2.putText(frame, f'Severity: {final_sev}',
                    (10, 55), cv2.FONT_HERSHEY_SIMPLEX, 0.6, (0, 0, 255), 2)

# نمایش تصویر نهایی
cv2.imshow("Knee Deformity Detection", frame)
cv2.waitKey(0)
cv2.destroyAllWindows()




